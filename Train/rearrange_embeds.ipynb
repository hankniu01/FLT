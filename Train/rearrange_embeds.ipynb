{
 "cells": [
  {
   "cell_type": "code",
   "execution_count": 3,
   "metadata": {},
   "outputs": [],
   "source": [
    "import os\n",
    "import pickle\n",
    "import numpy as np"
   ]
  },
  {
   "cell_type": "code",
   "execution_count": 1,
   "metadata": {},
   "outputs": [],
   "source": [
    "data_dir = '/nfsfile/niuhao/project/html_www2020/raw_data/ReleasedDataset_mp3_aspect/'"
   ]
  },
  {
   "cell_type": "code",
   "execution_count": 4,
   "metadata": {},
   "outputs": [
    {
     "name": "stderr",
     "output_type": "stream",
     "text": [
      "/nfsfile/niuhao/anaconda3/envs/PYTH/lib/python3.8/site-packages/tqdm/auto.py:21: TqdmWarning: IProgress not found. Please update jupyter and ipywidgets. See https://ipywidgets.readthedocs.io/en/stable/user_install.html\n",
      "  from .autonotebook import tqdm as notebook_tqdm\n"
     ]
    },
    {
     "ename": "UnsupportedOperation",
     "evalue": "write",
     "output_type": "error",
     "traceback": [
      "\u001b[0;31m---------------------------------------------------------------------------\u001b[0m",
      "\u001b[0;31mUnsupportedOperation\u001b[0m                      Traceback (most recent call last)",
      "Cell \u001b[0;32mIn[4], line 18\u001b[0m\n\u001b[1;32m     15\u001b[0m             idx \u001b[39m+\u001b[39m\u001b[39m=\u001b[39m \u001b[39m1\u001b[39m\n\u001b[1;32m     17\u001b[0m fout \u001b[39m=\u001b[39m \u001b[39mopen\u001b[39m(\u001b[39m'\u001b[39m\u001b[39m/nfsfile/niuhao/project/aspect_process_for_thesis/aspect_pkls/ec_flt_pkls_all.pkl\u001b[39m\u001b[39m'\u001b[39m, \u001b[39m'\u001b[39m\u001b[39mwb\u001b[39m\u001b[39m'\u001b[39m)\n\u001b[0;32m---> 18\u001b[0m pickle\u001b[39m.\u001b[39;49mdump(out_embeds, f)\n",
      "\u001b[0;31mUnsupportedOperation\u001b[0m: write"
     ]
    }
   ],
   "source": [
    "out_embeds = {}\n",
    "for name in os.listdir(data_dir):\n",
    "    with open(data_dir + name + '/ec_flt_pkls.pkl', 'rb') as f:\n",
    "        embeds = pickle.load(f)\n",
    "    out_embeds[name] = {}\n",
    "    out_embeds[name]['pooler_output'] = np.zeros((512, 768))\n",
    "    idx = 0\n",
    "    for k in embeds.keys():\n",
    "        if idx > 511:\n",
    "            break\n",
    "        for em in embeds[k]:\n",
    "            if idx > 511:\n",
    "                break\n",
    "            out_embeds[name]['pooler_output'][idx] = em.numpy()\n",
    "            idx += 1\n",
    "\n",
    "fout = open('/nfsfile/niuhao/project/aspect_process_for_thesis/aspect_pkls/ec_flt_pkls_all.pkl', 'wb')\n",
    "pickle.dump(out_embeds, fout)\n"
   ]
  },
  {
   "cell_type": "code",
   "execution_count": 9,
   "metadata": {},
   "outputs": [],
   "source": [
    "fout = open('/nfsfile/niuhao/project/VolTAGE/text-feature-extraction/text_embedding/thesis_needed/ec_flt_pkls_all.pkl', 'wb')\n",
    "pickle.dump(out_embeds, fout)"
   ]
  },
  {
   "cell_type": "code",
   "execution_count": 10,
   "metadata": {},
   "outputs": [],
   "source": [
    "a = pickle.load(open('/nfsfile/niuhao/project/VolTAGE/text-feature-extraction/text_embedding/thesis_needed/ec_flt_pkls_all.pkl', 'rb'))"
   ]
  },
  {
   "cell_type": "code",
   "execution_count": 11,
   "metadata": {},
   "outputs": [
    {
     "data": {
      "text/plain": [
       "dict_keys(['Becton Dickinson_20170803', 'CIGNA Corp._20170202', 'The Bank of New York Mellon Corp._20170720', 'JPMorgan Chase & Co._20170714', 'Martin Marietta Materials_20170502', 'Advanced Micro Devices Inc_20171024', 'Xcel Energy Inc_20170202', 'Electronic Arts_20171031', 'NiSource Inc._20170503', 'Salesforce.com_20170822', 'Lilly (Eli) & Co._20170131', 'Synopsys Inc._20170215', 'Illumina Inc_20171024', 'Cboe Global Markets_20170804', 'Gilead Sciences_20170502', 'Polo Ralph Lauren Corp._20170202', 'Waste Management Inc._20171026', 'Emerson Electric Company_20170207', 'Avery Dennison Corp_20170201', 'News Corp. Class A_20170509', 'Ecolab Inc._20170221', 'Alliance Data Systems_20170126', 'Alaska Air Group Inc_20170208', 'CenturyLink Inc_20171108', 'Intuit Inc._20170223', 'Kraft Heinz Co_20170503', 'Comcast Corp._20170427', 'Illinois Tool Works_20171023', 'Fortive Corp_20170207', 'PG&E Corp._20170727', 'Molson Coors Brewing Company_20170802', 'Mattel Inc._20170727', 'Caterpillar Inc._20171024', 'CIGNA Corp._20170804', 'Sealed Air_20170209', 'Tiffany & Co._20170524', 'The Mosaic Company_20171031', 'HP Inc._20171121', 'Merck & Co._20170728', 'Altria Group Inc_20171026', 'Hilton Worldwide Holdings Inc_20170502', 'Sherwin-Williams_20170420', 'The Hershey Company_20170203', 'Ball Corp_20170803', 'Align Technology_20170427', 'Lockheed Martin Corp._20171024', 'Incyte_20170214', 'Intel Corp._20171026', 'Valero Energy_20170727', 'Aetna Inc_20170502', 'Autodesk Inc._20170302', 'Thermo Fisher Scientific_20170426', 'Dover Corp._20170420', 'Home Depot_20170516', 'Campbell Soup_20170519', 'Sysco Corp._20170508', 'Norwegian Cruise Line_20170222', 'A.O. Smith Corp_20170726', 'XL Group_20171024', 'Allegion_20170427', 'FleetCor Technologies Inc_20170803', '3M Company_20170425', 'Pinnacle West Capital_20170803', 'Dominion Energy_20170802', 'American Express Co_20170719', 'Western Union Co_20171102', 'Roper Technologies_20170209', 'Digital Realty Trust Inc_20170427', 'CVS Health_20170209', 'Celgene Corp._20170427', 'DTE Energy Co._20170726', 'Nucor Corp._20170420', 'Regions Financial Corp._20171024', 'Sysco Corp._20170814', 'The Walt Disney Company_20170207', 'Target Corp._20170816', 'Johnson Controls International_20170427', 'Ingersoll-Rand PLC_20170201', 'Fidelity National Information Services_20170802', 'Illinois Tool Works_20170424', 'Marsh & McLennan_20170727', 'Parker-Hannifin_20170202', 'TE Connectivity Ltd._20170726', 'F5 Networks_20170426', 'Celgene Corp._20171026', 'Tractor Supply Company_20170426', 'WestRock_20170124', 'Hologic_20170802', 'LKQ Corporation_20170727', 'Bristol-Myers Squibb_20170727', 'Church & Dwight_20170803', 'ABIOMED Inc_20170504', 'DaVita Inc._20170502', 'Varian Medical Systems_20170125', 'Nucor Corp._20171019', 'MGM Resorts International_20170727', 'General Motors_20171024', 'Dominion Energy_20171030', 'Kellogg Co._20170504', 'Martin Marietta Materials_20171102', 'Franklin Resources_20170428', 'Seagate Technology_20170725', \"Kohl's Corp._20171109\", 'Align Technology_20170131', 'Caterpillar Inc._20170425', 'Equinix_20171101', 'Boeing Company_20170426', 'Johnson Controls International_20171109', \"Lowe's Cos._20170524\", 'Intel Corp._20170427', 'Darden Restaurants_20170926', 'Mastercard Inc._20170727', 'Lockheed Martin Corp._20170425', 'Agilent Technologies Inc_20170214', 'Kimberly-Clark_20170124', 'Yum! Brands Inc_20170803', 'Sysco Corp._20171106', 'Newell Brands_20170206', 'NRG Energy_20170228', 'Prologis_20170718', 'PPL Corp._20170201', 'Grainger (W.W.) Inc._20170418', 'Biogen Inc._20170126', 'Western Union Co_20170502', 'Stericycle Inc_20170803', 'Carmax Inc_20170922', 'Estee Lauder Cos._20170202', 'CMS Energy_20171026', 'Ecolab Inc._20170502', 'Microsoft Corp._20170427', 'The Walt Disney Company_20170808', 'LyondellBasell_20170203', 'Campbell Soup_20171121', 'Amgen Inc._20170725', 'Conagra Brands_20171221', 'SVB Financial_20170427', 'The Clorox Company_20170803', 'Xerox_20170425', 'CBRE Group_20171103', 'Goldman Sachs Group_20170718', 'TE Connectivity Ltd._20170125', 'Akamai Technologies Inc_20170502', 'Baxter International Inc._20170726', 'The Clorox Company_20170203', 'Garmin Ltd._20170503', 'Kroger Co._20170908', 'American Tower Corp A_20171031', \"Kohl's Corp._20170223\", 'Apache Corporation_20170223', 'Adobe Systems Inc_20170316', 'CMS Energy_20170501', 'AmerisourceBergen Corp_20170803', 'Pentair plc_20170725', 'BorgWarner_20170727', 'Ecolab Inc._20171031', 'Comcast Corp._20170727', 'Johnson Controls International_20170201', 'Sealed Air_20170509', 'Mondelez International_20170802', 'IPG Photonics Corp._20170502', 'Ball Corp_20170504', 'Gap Inc._20170518', 'Texas Instruments_20170425', 'Hess Corporation_20171025', 'Ameren Corp_20170216', 'Campbell Soup_20170217', 'Automatic Data Processing_20170201', 'Amazon.com Inc._20170427', 'Hewlett Packard Enterprise_20171121', 'Estee Lauder Cos._20170818', 'Carmax Inc_20171221', 'Hanesbrands Inc_20171101', 'Gartner Inc_20170808', 'Oracle Corp._20171214', 'CBS Corp._20170807', 'MSCI Inc_20170504', 'Comerica Inc._20170117', 'Church & Dwight_20171102', 'Kellogg Co._20171031', 'Marsh & McLennan_20171026', 'General Mills_20170628', 'Foot Locker Inc_20171117', 'Dover Corp._20170720', 'Cummins Inc._20170801', 'Dish Network_20170803', 'Amgen Inc._20171025', 'Crown Castle International Corp._20170719', 'International Paper_20170202', 'Ingersoll-Rand PLC_20170426', 'D. R. Horton_20170124', 'Masco Corp._20171024', 'Norfolk Southern Corp._20170426', 'American Express Co_20170419', '3M Company_20170725', 'AmerisourceBergen Corp_20171102', 'Celgene Corp._20170727', 'Tractor Supply Company_20170201', 'CIGNA Corp._20170505', 'Ulta Beauty_20170309', 'Dominion Energy_20170504', 'Mastercard Inc._20170131', 'Intuit Inc._20170523', 'Weyerhaeuser_20170203', 'Hasbro Inc._20170424', \"Edison Int'l_20170501\", 'General Motors_20170725', 'Seagate Technology_20171023', 'General Dynamics_20170426', 'Pinnacle West Capital_20170502', 'The Cooper Companies_20170831', 'Parker-Hannifin_20171102', 'Abbott Laboratories_20171018', 'The Walt Disney Company_20171109', 'AES Corp_20171102', 'Alexion Pharmaceuticals_20170427', 'Align Technology_20170727', 'Activision Blizzard_20170504', 'Sherwin-Williams_20170720', 'Home Depot_20170221', 'Wec Energy Group Inc_20170502', 'Micron Technology_20170926', 'SunTrust Banks_20170120', 'Valero Energy_20170131', 'Pinnacle West Capital_20171103', 'Altria Group Inc_20170727', 'Caterpillar Inc._20170725', 'Mattel Inc._20171026', 'The Mosaic Company_20170502', 'WestRock_20170426', 'Automatic Data Processing_20170727', 'Merck & Co._20171027', 'Intel Corp._20170727', 'Cognizant Technology Solutions_20170803', 'Aetna Inc_20171031', 'Chevron Corp._20170127', 'Alexion Pharmaceuticals_20171026', 'Stericycle Inc_20170504', 'American Tower Corp A_20170227', 'Nvidia Corporation_20170509', 'The Clorox Company_20170503', 'Johnson Controls International_20170727', 'F5 Networks_20170726', 'Becton Dickinson_20171102', 'Citrix Systems_20170802', 'Bristol-Myers Squibb_20170427', 'LKQ Corporation_20170427', 'General Mills_20171220', 'Grainger (W.W.) Inc._20170719', 'AmerisourceBergen Corp_20170504', 'Red Hat Inc._20170327', 'Archer-Daniels-Midland Co_20170801', 'Corning Inc._20170124', 'Interpublic Group_20170210', 'AMETEK Inc._20170207', 'Tractor Supply Company_20170726', 'Waste Management Inc._20170726', 'Nektar Therapeutics_20170301', 'SCANA Corp_20170803', 'Allegion_20170209', 'American Express Co_20171018', 'Public Serv. Enterprise Inc._20170428', 'Polo Ralph Lauren Corp._20171102', 'Lennar Corp._20171003', 'The Walt Disney Company_20170509', 'Walgreens Boots Alliance_20170405', 'Skyworks Solutions_20170119', 'Baxter International Inc._20170426', 'Fortune Brands Home & Security_20170802', 'Duke Energy_20171103', 'F5 Networks_20170125', 'Texas Instruments_20171024', 'JPMorgan Chase & Co._20171012', 'Welltower Inc._20170505', 'Kansas City Southern_20171020', 'Grainger (W.W.) Inc._20170125', 'Nielsen Holdings_20170727', 'Hasbro Inc._20171023', 'Sempra Energy_20170509', 'Goodyear Tire & Rubber_20170428', 'Advanced Micro Devices Inc_20170725', 'Estee Lauder Cos._20170503', 'Quest Diagnostics_20170420', 'Republic Services Inc_20170216', 'Avery Dennison Corp_20170426', 'Snap-On Inc._20170202', 'Foot Locker Inc_20170519', 'Kellogg Co._20170803', 'Tapestry, Inc._20170131', 'Caterpillar Inc._20170126', 'Halliburton Co._20171023', 'Regeneron_20171108', 'Archer-Daniels-Midland Co_20170207', 'General Growth Properties Inc._20170802', 'Microsoft Corp._20170720', 'Sealed Air_20171108', 'Nasdaq, Inc._20170131', 'PayPal_20170726', \"Lowe's Cos._20170823\", 'BorgWarner_20170209', 'Ball Corp_20171102', 'Incyte_20170801', 'Wec Energy Group Inc_20170201', 'Automatic Data Processing_20170503', 'Verizon Communications_20170727', 'Iron Mountain Incorporated_20170427', 'ResMed_20171026', 'Anthem Inc._20170426', 'Tractor Supply Company_20171025', 'Kansas City Southern_20170120', 'Booking Holdings Inc_20171106', 'Raytheon Co._20171026', 'Comerica Inc._20170418', 'Kroger Co._20171130', 'Texas Instruments_20170124', 'Gartner Inc_20170504', 'Walgreens Boots Alliance_20170629', 'Cognizant Technology Solutions_20171101', 'U.S. Bancorp_20170419', 'Kinder Morgan_20170419', 'Activision Blizzard_20170209', 'Lam Research_20170125', 'Digital Realty Trust Inc_20170216', 'United Health Group Inc._20170418', 'Red Hat Inc._20171219', 'KLA-Tencor Corp._20170727', 'Schlumberger Ltd._20170421', 'Nielsen Holdings_20171025', 'Salesforce.com_20170228', 'Garmin Ltd._20171101', 'Ford Motor_20170427', 'Micron Technology_20170629', 'Altria Group Inc_20170502', 'NetApp_20170215', 'Verisign Inc._20170427', 'Aetna Inc_20170131', 'SCANA Corp_20170427', 'Advanced Micro Devices Inc_20170501', 'Viacom Inc._20171116', 'General Dynamics_20170127', 'Hewlett Packard Enterprise_20170531', 'SunTrust Banks_20171020', 'Ross Stores_20170518', 'Verizon Communications_20170124', 'Fifth Third Bancorp_20170124', 'Iron Mountain Incorporated_20170223', 'Invesco Ltd._20171026', 'AbbVie Inc._20170427', 'Humana Inc._20170503', 'Hewlett Packard Enterprise_20170905', 'Coty, Inc_20170822', 'Cadence Design Systems_20170724', 'Quanta Services Inc._20170221', 'Gap Inc._20170223', 'Regeneron_20170803', 'General Motors_20170428', 'Dish Network_20170501', 'Motorola Solutions Inc._20170504', 'Kroger Co._20170615', 'Garmin Ltd._20170222', 'Intercontinental Exchange_20170207', 'Illumina Inc_20170131', 'Cimarex Energy_20170510', 'Coty, Inc_20171109', \"Lowe's Cos._20171121\", 'Stryker Corp._20171026', 'Quest Diagnostics_20170725', 'Dish Network_20171109', 'Dish Network_20170222', 'HP Inc._20170524', 'Xcel Energy Inc_20170727', 'Skyworks Solutions_20171106', 'Motorola Solutions Inc._20171102', \"McDonald's Corp._20171024\", 'Juniper Networks_20170725', 'Lilly (Eli) & Co._20170425', 'PepsiCo Inc._20170215', 'PACCAR Inc._20171024', 'Waste Management Inc._20170216', 'Merck & Co._20170202', 'Republic Services Inc_20170727', 'General Growth Properties Inc._20170501', 'Amazon.com Inc._20170202', 'Facebook, Inc._20171101', 'Verisign Inc._20171026', 'Goldman Sachs Group_20170118', 'Freeport-McMoRan Inc._20170425', 'Genuine Parts_20170221', 'Hologic_20170201', 'Symantec Corp._20170510', 'PPL Corp._20170803', 'Xilinx_20170426', 'United Technologies_20170725', 'PepsiCo Inc._20170426', 'Seagate Technology_20170124', 'Chevron Corp._20170428', 'CBS Corp._20171102', 'Incyte_20170504', 'Foot Locker Inc_20170224', 'Advance Auto Parts_20170524', 'FLIR Systems_20171025', 'Apache Corporation_20171102', 'Weyerhaeuser_20170428', 'Quanta Services Inc._20170504', 'Hilton Worldwide Holdings Inc_20170215', 'Twitter, Inc._20170426', 'eBay Inc._20170419', 'Michael Kors Holdings_20170207', 'Walmart_20171116', 'Kroger Co._20170302', 'United Health Group Inc._20171017', 'Hasbro Inc._20170206', 'Martin Marietta Materials_20170214', 'Kimberly-Clark_20170725', 'AbbVie Inc._20171027', 'Archer-Daniels-Midland Co_20170502', 'Yum! Brands Inc_20170209', 'The Mosaic Company_20170801', 'ResMed_20170427', 'Perrigo_20171109', 'Fidelity National Information Services_20170207', 'Booking Holdings Inc_20170509', 'Automatic Data Processing_20171102', 'Campbell Soup_20170831', 'Masco Corp._20170727', 'Lennar Corp._20170620', 'Avery Dennison Corp_20170725', 'Skyworks Solutions_20170427', 'Tyson Foods_20170206', 'Hormel Foods Corp._20170223', 'Royal Caribbean Cruises Ltd_20171107', 'Kraft Heinz Co_20171101', 'Rockwell Automation Inc._20170426', 'Kraft Heinz Co_20170215', 'Gartner Inc_20171102', 'Citigroup Inc._20171012', 'Cisco Systems_20170215', 'Oracle Corp._20170914', 'EQT Corporation_20170727', 'Raytheon Co._20170427', 'Ross Stores_20171116', 'Hess Corporation_20170125', 'Walgreens Boots Alliance_20171025', 'Illumina Inc_20170801', 'AbbVie Inc._20170728', 'Lam Research_20170418', 'Comcast Corp._20170126', 'Valero Energy_20170425', 'Allergan, Plc_20170803', 'Emerson Electric Company_20170502', 'Western Digital_20171026', 'Gartner Inc_20170202', 'Edwards Lifesciences_20170201', 'Citigroup Inc._20170118', 'Schlumberger Ltd._20170721', 'Nektar Therapeutics_20171107', 'Coca-Cola Company (The)_20170209', 'KLA-Tencor Corp._20170427', 'Alliance Data Systems_20170420', 'Archer-Daniels-Midland Co_20171031', 'AT&T Inc._20171024', 'Estee Lauder Cos._20171101', 'Cisco Systems_20171115', 'Xerox_20170801', 'Regeneron_20170504', 'PPG Industries_20170119', 'Nordstrom_20171109', 'Verizon Communications_20170420', 'Anthem Inc._20170726', 'Parker-Hannifin_20170427', 'Synopsys Inc._20170517', 'Motorola Solutions Inc._20170803', 'TransDigm Group_20170207', 'U.S. Bancorp_20170719', 'Twitter, Inc._20170209', 'Ventas Inc_20171027', 'Varian Medical Systems_20171025', 'Ross Stores_20170228', 'Harris Corporation_20170801', 'Stryker Corp._20170727', 'Celgene Corp._20170126', 'Noble Energy Inc_20170803', 'Stericycle Inc_20171108', 'Hologic_20171108', 'Ross Stores_20170817', 'Royal Caribbean Cruises Ltd_20170801', 'Target Corp._20171115', 'PACCAR Inc._20170725', 'The Hershey Company_20171026', 'Iron Mountain Incorporated_20170728', 'The Clorox Company_20171101', 'Alaska Air Group Inc_20171025', 'Equinix_20170802', 'Regions Financial Corp._20170721', 'Verisign Inc._20170727', 'Snap-On Inc._20170720', 'Humana Inc._20170802', 'Nordstrom_20170223', 'CME Group Inc._20171026', 'Henry Schein_20170221', 'Darden Restaurants_20171219', 'Newmont Mining Corporation_20170725', 'Avery Dennison Corp_20171025', 'Martin Marietta Materials_20170801', 'Wec Energy Group Inc_20171026', 'United Technologies_20171024', 'CMS Energy_20170202', 'Franklin Resources_20170127', 'HP Inc._20170222', 'Quanta Services Inc._20170803', 'Lockheed Martin Corp._20170124', 'HCA Holdings_20170502', 'Nike_20170321', 'WestRock_20171102', 'PerkinElmer_20171102', 'eBay Inc._20170125', 'Chevron Corp._20170728', 'Coty, Inc_20170209', \"Kohl's Corp._20170511\", 'eBay Inc._20170720', 'CA, Inc._20170802', 'Seagate Technology_20170426', 'Kimberly-Clark_20170424', 'ResMed_20170123', 'Invesco Ltd._20170727', 'NetApp_20171115', 'Hanesbrands Inc_20170502', 'Oracle Corp._20170621', 'Twitter, Inc._20170727', 'Juniper Networks_20170425', 'Rockwell Automation Inc._20170125', 'PayPal_20170126', 'Ecolab Inc._20170801', 'Starbucks Corp._20170126', 'Coca-Cola Company (The)_20170726', 'Exxon Mobil Corp._20171027', 'Hess Corporation_20170426', 'United Parcel Service_20170727', 'Anthem Inc._20170201', 'Akamai Technologies Inc_20170207', 'Dollar General_20171207', 'HP Inc._20170823', 'Mylan N.V._20170510', 'Merck & Co._20170502', 'Verizon Communications_20171019', 'Norfolk Southern Corp._20171025', 'American Tower Corp A_20170427', 'Cardinal Health Inc._20170501', 'Rockwell Automation Inc._20170726', 'Synopsys Inc._20171129', 'SVB Financial_20170126', 'Aon plc_20171027', 'Broadridge Financial Solutions_20170510', 'Vulcan Materials_20170802', 'Red Hat Inc._20170925', 'EQT Corporation_20170427', 'AMETEK Inc._20170802', 'Skyworks Solutions_20170720', 'PepsiCo Inc._20170711', 'PPL Corp._20170504', 'Aon plc_20170509', 'Pinnacle West Capital_20170224', 'Interpublic Group_20170421', 'Microsoft Corp._20170126', 'CenturyLink Inc_20170802', 'Lockheed Martin Corp._20170718', 'The Hershey Company_20170426', 'AES Corp_20170508', 'PepsiCo Inc._20171004', 'Ulta Beauty_20171130', 'Alliance Data Systems_20171019', 'AT&T Inc._20170425', 'AmerisourceBergen Corp_20170131', 'DaVita Inc._20170801', 'General Dynamics_20171025', 'General Motors_20170207'])"
      ]
     },
     "execution_count": 11,
     "metadata": {},
     "output_type": "execute_result"
    }
   ],
   "source": [
    "a.keys()"
   ]
  },
  {
   "cell_type": "code",
   "execution_count": null,
   "metadata": {},
   "outputs": [],
   "source": []
  }
 ],
 "metadata": {
  "kernelspec": {
   "display_name": "Python 3",
   "language": "python",
   "name": "python3"
  },
  "language_info": {
   "codemirror_mode": {
    "name": "ipython",
    "version": 3
   },
   "file_extension": ".py",
   "mimetype": "text/x-python",
   "name": "python",
   "nbconvert_exporter": "python",
   "pygments_lexer": "ipython3",
   "version": "3.8.16"
  },
  "orig_nbformat": 4
 },
 "nbformat": 4,
 "nbformat_minor": 2
}
